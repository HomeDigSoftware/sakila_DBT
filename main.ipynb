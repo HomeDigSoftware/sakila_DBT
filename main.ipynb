{
 "cells": [
  {
   "cell_type": "code",
   "execution_count": null,
   "id": "14d74791",
   "metadata": {},
   "outputs": [],
   "source": [
    "# !pip install dbt-core"
   ]
  },
  {
   "cell_type": "code",
   "execution_count": null,
   "id": "2f1ba19d",
   "metadata": {},
   "outputs": [],
   "source": [
    "# !pip install dbt-postgres"
   ]
  },
  {
   "cell_type": "code",
   "execution_count": null,
   "id": "37d306a3",
   "metadata": {},
   "outputs": [],
   "source": []
  }
 ],
 "metadata": {
  "kernelspec": {
   "display_name": "Python 3",
   "language": "python",
   "name": "python3"
  },
  "language_info": {
   "codemirror_mode": {
    "name": "ipython",
    "version": 3
   },
   "file_extension": ".py",
   "mimetype": "text/x-python",
   "name": "python",
   "nbconvert_exporter": "python",
   "pygments_lexer": "ipython3",
   "version": "3.13.5"
  }
 },
 "nbformat": 4,
 "nbformat_minor": 5
}
